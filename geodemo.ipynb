{
 "cells": [
  {
   "cell_type": "code",
   "execution_count": 24,
   "metadata": {},
   "outputs": [],
   "source": [
    "import gmaps\n",
    "import sqlite3\n",
    "import importlib\n",
    "\n",
    "import geodemo as gd\n",
    "importlib.reload(gd)\n",
    "\n",
    "gmaps.configure(api_key=gd.api_key)\n",
    "\n",
    "db = sqlite3.connect('data/db/geodemo.db')\n",
    "cur = db.cursor()\n"
   ]
  },
  {
   "cell_type": "code",
   "execution_count": 25,
   "metadata": {},
   "outputs": [
    {
     "data": {
      "application/vnd.jupyter.widget-view+json": {
       "model_id": "19703b7a1df2490cad3bc17f71ee7cd1",
       "version_major": 2,
       "version_minor": 0
      },
      "text/plain": [
       "Figure(layout=FigureLayout(border_bottom='1px solid black', border_left='1px solid black', border_right='1px s…"
      ]
     },
     "execution_count": 25,
     "metadata": {},
     "output_type": "execute_result"
    }
   ],
   "source": [
    "\n",
    "figure_layout = {\n",
    "    'width': '2000px',\n",
    "    'height': '2000px',\n",
    "    'border': '1px solid black',\n",
    "    'padding': '1px'\n",
    "}\n",
    "fig = gmaps.figure(layout=figure_layout)\n",
    "\n",
    "feature_coll,v,d = gd.get_districts(db, 'NY')\n",
    "hilight_coll,v,d = gd.get_districts(db, 'NY', 17)\n",
    "\n",
    "gini_layer = gmaps.geojson_layer(feature_coll, fill_opacity=0.0, stroke_weight=2)\n",
    "fig.add_layer(gini_layer)\n",
    "\n",
    "hilight_layer = gmaps.geojson_layer(hilight_coll, fill_opacity=0.75, fill_color=['gray'], stroke_weight=2)\n",
    "fig.add_layer(hilight_layer)\n",
    "\n",
    "fig"
   ]
  },
  {
   "cell_type": "code",
   "execution_count": 26,
   "metadata": {},
   "outputs": [],
   "source": [
    "fig = gmaps.figure(layout=figure_layout)\n",
    "feature_coll, demo_colors = gd.get_tracts(db, 'IL', demo_colors=gd.demo_colors)\n",
    "gini_layer = gmaps.geojson_layer(feature_coll, fill_color=demo_colors, fill_opacity=0.5, stroke_weight=2)\n",
    "fig.add_layer(gini_layer)\n",
    "\n",
    "fig"
   ]
  },
  {
   "cell_type": "code",
   "execution_count": null,
   "metadata": {},
   "outputs": [
    {
     "data": {
      "application/vnd.jupyter.widget-view+json": {
       "model_id": "2896ec69c7b9457d9cf3dbed6ba354ff",
       "version_major": 2,
       "version_minor": 0
      },
      "text/plain": [
       "Figure(layout=FigureLayout(border_bottom='1px solid black', border_left='1px solid black', border_right='1px s…"
      ]
     },
     "execution_count": 21,
     "metadata": {},
     "output_type": "execute_result"
    }
   ],
   "source": [
    "fig = gmaps.figure(layout=figure_layout)\n",
    "state =   'TX'\n",
    "feature_coll, demo_colors = gd.get_tracts(db, state, demo_colors=gd.demo_colors)\n",
    "gini_layer = gmaps.geojson_layer(feature_coll, fill_color=demo_colors, fill_opacity=0.5, stroke_weight=2)\n",
    "fig.add_layer(gini_layer)\n",
    "\n",
    "feature_coll, vote_colors, demo_colors = gd.get_districts(db, state, demo_colors=gd.demo_colors, vote_colors=gd.vote_colors)\n",
    "gini_layer = gmaps.geojson_layer(feature_coll, fill_color=demo_colors, stroke_color=vote_colors, fill_opacity=0.0, stroke_opacity=1.0, stroke_weight=5)\n",
    "fig.add_layer(gini_layer)\n",
    "\n",
    "fig\n"
   ]
  }
 ],
 "metadata": {
  "kernelspec": {
   "display_name": "Python 3.7.9 ('.venv': venv)",
   "language": "python",
   "name": "python3"
  },
  "language_info": {
   "codemirror_mode": {
    "name": "ipython",
    "version": 3
   },
   "file_extension": ".py",
   "mimetype": "text/x-python",
   "name": "python",
   "nbconvert_exporter": "python",
   "pygments_lexer": "ipython3",
   "version": "3.7.9"
  },
  "orig_nbformat": 4,
  "vscode": {
   "interpreter": {
    "hash": "03153906ac20ac69f32fd8cabef492f0e790fc8205e250bcf7a8469aad607869"
   }
  }
 },
 "nbformat": 4,
 "nbformat_minor": 2
}
